{
 "cells": [
  {
   "cell_type": "code",
   "execution_count": 2,
   "id": "2da6e6f3",
   "metadata": {},
   "outputs": [],
   "source": [
    "import os\n",
    "import pandas as pd\n",
    "from langchain_google_genai import ChatGoogleGenerativeAI\n",
    "from langchain.prompts import ChatPromptTemplate\n",
    "from langchain.chains import LLMChain\n",
    "from langchain.output_parsers import PydanticOutputParser\n",
    "from pydantic import BaseModel, Field\n",
    "from typing import List, Dict, Any\n",
    "from dotenv import load_dotenv\n",
    "from langchain_community.document_loaders import CSVLoader\n",
    "from langchain.prompts import PromptTemplate\n"
   ]
  },
  {
   "cell_type": "code",
   "execution_count": 3,
   "id": "3166cb45",
   "metadata": {},
   "outputs": [],
   "source": [
    "from dotenv import load_dotenv\n",
    "import os\n",
    "\n",
    "load_dotenv('C:\\\\Users\\\\TERENTI\\\\Desktop\\\\UNI\\\\LLM\\\\api_key.env')\n",
    "\n",
    "api_key = os.getenv('API_KEY')\n"
   ]
  },
  {
   "cell_type": "code",
   "execution_count": 4,
   "id": "4ef6ca15",
   "metadata": {},
   "outputs": [
    {
     "name": "stdout",
     "output_type": "stream",
     "text": [
      "Initialized Gemini Model: gemini-2.0-flash\n"
     ]
    }
   ],
   "source": [
    "#initializing model \n",
    "model_name = 'gemini-2.0-flash' \n",
    "model_name2 = 'gemini-2.0-flash-lite' #if out of requests use this one\n",
    "\n",
    "\n",
    "llm_model = ChatGoogleGenerativeAI(\n",
    "    model=model_name,\n",
    "    google_api_key=api_key,\n",
    "    temperature=0.0,\n",
    "    convert_system_message_to_human=True\n",
    ")\n",
    "\n",
    "print(f\"Initialized Gemini Model: {model_name}\")\n"
   ]
  },
  {
   "cell_type": "code",
   "execution_count": 5,
   "id": "2f19d150",
   "metadata": {},
   "outputs": [],
   "source": [
    "from langchain.document_loaders import PyPDFLoader\n",
    "\n",
    "loader = PyPDFLoader(r'C:\\Users\\TERENTI\\Desktop\\UNI\\LLM\\HW\\HW2\\General_Academic_Regulations_21.02.2025-eng.pdf')"
   ]
  },
  {
   "cell_type": "code",
   "execution_count": 6,
   "id": "75603981",
   "metadata": {},
   "outputs": [
    {
     "name": "stdout",
     "output_type": "stream",
     "text": [
      "proved by the Rector order N196, 05/07/2024  AC_GUIDE 005 General Academic Regulations | სასწავლო პროცესის ზოგადი რეგულაციები \n",
      "AC_GUIDE 005 \n",
      "1 \n",
      " \n",
      " \n",
      "    GENERAL ACADEMIC REGULATIONS\n"
     ]
    }
   ],
   "source": [
    "docs = loader.load()\n",
    "print(docs[0].page_content[2:])"
   ]
  },
  {
   "cell_type": "code",
   "execution_count": 7,
   "id": "9b1e363d",
   "metadata": {},
   "outputs": [],
   "source": [
    "from langchain.text_splitter import CharacterTextSplitter, RecursiveCharacterTextSplitter\n",
    "\n",
    "c_splitter = CharacterTextSplitter(\n",
    "    separator=\"\\n\",\n",
    "    chunk_size=1000,\n",
    "    chunk_overlap=150,\n",
    "    length_function=len\n",
    ")\n",
    "\n",
    "r_splitter = RecursiveCharacterTextSplitter(\n",
    "    chunk_size=1000,\n",
    "    chunk_overlap=70\n",
    ")"
   ]
  },
  {
   "cell_type": "code",
   "execution_count": 8,
   "id": "982b396a",
   "metadata": {},
   "outputs": [
    {
     "data": {
      "text/plain": [
       "'Approved by the Rector order N196, 05/07/2024  AC_GUIDE 005 General Academic Regulations | სასწავლო პროცესის ზოგადი რეგულაციები \\nAC_GUIDE 005 \\n1 \\n \\n \\n    GENERAL ACADEMIC REGULATIONS'"
      ]
     },
     "execution_count": 8,
     "metadata": {},
     "output_type": "execute_result"
    }
   ],
   "source": [
    "doc_split = r_splitter.split_documents(docs)\n",
    "doc_split[0].page_content"
   ]
  },
  {
   "cell_type": "code",
   "execution_count": 9,
   "id": "50079c22",
   "metadata": {},
   "outputs": [
    {
     "name": "stderr",
     "output_type": "stream",
     "text": [
      "c:\\Users\\TERENTI\\AppData\\Local\\Programs\\Python\\Python313\\Lib\\site-packages\\tqdm\\auto.py:21: TqdmWarning: IProgress not found. Please update jupyter and ipywidgets. See https://ipywidgets.readthedocs.io/en/stable/user_install.html\n",
      "  from .autonotebook import tqdm as notebook_tqdm\n"
     ]
    }
   ],
   "source": [
    "# from sentence_transformers import SentenceTransformer\n",
    "from transformers import AutoModel, AutoTokenizer\n",
    "#\n",
    "import torch\n",
    "from sklearn.metrics.pairwise import cosine_similarity\n",
    "import numpy as np"
   ]
  },
  {
   "cell_type": "code",
   "execution_count": 10,
   "id": "bf67c3e7",
   "metadata": {},
   "outputs": [],
   "source": [
    "# Load the BERT model and tokenizer\n",
    "model_name = \"bert-base-uncased\"\n",
    "tokenizer = AutoTokenizer.from_pretrained(model_name)\n",
    "model = AutoModel.from_pretrained(model_name)\n"
   ]
  },
  {
   "cell_type": "code",
   "execution_count": 11,
   "id": "a8e22c35",
   "metadata": {},
   "outputs": [],
   "source": [
    "#tokenizer function for embedding\n",
    "\n",
    "\n",
    "\n",
    "def get_embedding(text):\n",
    "    #tokenize input and convert into tensor\n",
    "    inputs = tokenizer(text, return_tensors='pt', truncation=True, padding=True, max_length=512)\n",
    "    #pass it to BERT\n",
    "    with torch.no_grad():\n",
    "        outputs = model(**inputs)\n",
    "    return outputs.last_hidden_state[:, 0, :].squeeze().numpy()"
   ]
  },
  {
   "cell_type": "code",
   "execution_count": 12,
   "id": "2be67d7d",
   "metadata": {},
   "outputs": [],
   "source": [
    "# Generate embeddings for each chunk\n",
    "document_embeddings = [get_embedding(chunk.page_content) for chunk in doc_split]"
   ]
  },
  {
   "cell_type": "code",
   "execution_count": 13,
   "id": "c2df7a0b",
   "metadata": {},
   "outputs": [
    {
     "data": {
      "text/plain": [
       "array([-4.76507634e-01,  5.94461799e-01, -4.70275246e-02, -2.09089100e-01,\n",
       "       -5.59368312e-01, -4.03583020e-01,  5.66022635e-01,  5.18967867e-01,\n",
       "       -1.98110670e-01, -8.91329423e-02, -8.04711878e-01,  1.13803186e-02,\n",
       "       -4.42805700e-03,  3.37806106e-01,  3.23058993e-01,  4.18296978e-02,\n",
       "       -7.85032846e-03,  6.27574921e-01,  3.49347800e-01,  2.10068807e-01,\n",
       "       -1.71922714e-01, -5.65401316e-01,  2.87322819e-01, -2.57753193e-01,\n",
       "       -1.07053138e-01, -3.61914188e-02, -2.10021168e-01,  1.61077410e-01,\n",
       "       -1.85637742e-01, -1.57904297e-01,  1.14258900e-01,  3.55533242e-01,\n",
       "       -1.63850486e-01,  2.82093063e-02,  5.72541475e-01, -3.73378843e-02,\n",
       "        6.01706266e-01, -3.36631238e-01,  4.54089850e-01,  4.84103784e-02,\n",
       "        1.59115851e-01,  1.85927138e-01,  2.62305647e-01, -2.17892587e-01,\n",
       "        1.62773252e-01, -3.72564614e-01, -3.08246708e+00, -2.24999696e-01,\n",
       "       -3.10571015e-01, -2.15969294e-01,  4.61419255e-01, -5.21380186e-01,\n",
       "        7.14956000e-02,  5.22632487e-02, -2.64496922e-01,  4.96254385e-01,\n",
       "       -5.05856156e-01,  2.24063069e-01,  4.17040765e-01,  4.70948637e-01,\n",
       "        1.41387522e-01,  2.02788427e-01, -4.73708361e-01,  2.12063357e-01,\n",
       "        1.25769794e-01,  8.05410683e-01, -1.85286805e-01,  1.53583586e-01,\n",
       "       -8.46262932e-01,  4.95317638e-01, -5.62191188e-01, -3.89286205e-02,\n",
       "        4.99099880e-01,  4.47395861e-01, -3.79576907e-02, -6.33840680e-01,\n",
       "       -3.30009043e-01,  7.51638338e-02, -5.87272160e-02, -9.70327407e-02,\n",
       "        6.28241479e-01,  6.13458931e-01,  1.63562447e-01, -4.22926486e-01,\n",
       "        1.07522257e-01,  4.26317692e-01, -6.78619966e-02, -6.27793074e-01,\n",
       "       -9.83708352e-03,  7.75665104e-01,  5.88343851e-02,  1.37855619e-01,\n",
       "        9.69373062e-03, -1.00765698e-01,  5.91757357e-01,  3.94856811e-01,\n",
       "       -2.13547051e-01, -5.09740822e-02,  4.94109988e-01,  3.09462368e-01,\n",
       "       -1.76715344e-01,  3.29894334e-01,  2.16076598e-02, -2.21545294e-01,\n",
       "       -3.75022173e-01, -5.22717476e-01, -5.93272209e-01, -2.59506792e-01,\n",
       "       -3.99196744e-01, -1.97200656e+00, -7.44710714e-02,  6.80871248e-01,\n",
       "       -3.52095991e-01, -2.03786060e-01, -4.17638302e-01,  4.88020599e-01,\n",
       "        6.42231762e-01, -2.37206995e-01, -4.32339348e-02,  4.51499879e-01,\n",
       "       -2.69044667e-01,  5.01422405e-01, -2.18507200e-01, -3.43557090e-01,\n",
       "        3.40234898e-02,  6.11221850e-01,  6.00936830e-01, -4.43578623e-02,\n",
       "        5.50020874e-01,  4.47859585e-01,  2.87888587e-01,  4.89532799e-01,\n",
       "       -1.70696706e-01, -6.30145893e-02, -5.92365861e-03,  1.18583344e-01,\n",
       "        5.53303540e-01, -2.90279627e-01, -1.55274406e-01,  3.85476559e-01,\n",
       "       -8.46740663e-01, -4.60117698e-01, -2.89465046e+00,  2.83999205e-01,\n",
       "        3.69537324e-01, -3.56750429e-01, -2.99090773e-01,  5.00540853e-01,\n",
       "       -5.84785223e-01,  2.57768750e-01,  2.43884161e-01, -3.73808265e-01,\n",
       "       -3.56915146e-02,  4.39196303e-02, -4.99298513e-01,  4.35312539e-01,\n",
       "        1.62778616e-01, -1.26018599e-01,  3.76462549e-01,  6.85515821e-01,\n",
       "        2.98452348e-01,  1.71434730e-01, -2.34384388e-01, -1.31208003e-01,\n",
       "       -4.94564295e-01, -2.69511193e-01,  3.20541531e-01,  1.83474302e-01,\n",
       "       -3.13641131e-03,  1.54802985e-02, -6.65573061e-01, -2.57588029e-01,\n",
       "        9.31086391e-02, -2.96668023e-01,  2.10771218e-01, -9.74444300e-02,\n",
       "       -3.87730822e-02,  2.79924959e-01,  2.68282592e-01, -1.92267954e-01,\n",
       "       -6.33204639e-01, -1.15025312e-01,  9.27878320e-02,  8.75363827e-01,\n",
       "        2.81940073e-01, -2.01958925e-01,  5.08045673e-01,  5.55309951e-02,\n",
       "        6.23357221e-02,  3.50385219e-01, -1.67409942e-01, -4.22243953e-01,\n",
       "        3.26143742e-01,  6.48875087e-02,  8.56696248e-01,  5.03412843e-01,\n",
       "        1.32123828e-01, -3.44854206e-01,  6.34818943e-03,  4.28336978e-01,\n",
       "       -4.35862467e-02,  2.05421612e-01, -3.48982453e-01,  2.53418356e-01,\n",
       "       -5.43820858e-01,  3.58484459e+00,  3.34114939e-01, -1.56606093e-01,\n",
       "        7.46320263e-02,  4.91565615e-01, -2.62683909e-03,  7.99299031e-02,\n",
       "        1.53551131e-01, -4.10776854e-01,  6.77501410e-02, -1.75455272e-01,\n",
       "        2.12536380e-02, -1.77295968e-01, -4.66878951e-01, -2.59187937e-01,\n",
       "        2.97103643e-01,  3.64247799e-01, -3.36297005e-02,  5.47418952e-01,\n",
       "       -2.66097873e-01, -4.00788516e-01,  1.08876392e-01,  4.25183386e-01,\n",
       "        4.19092439e-02, -1.47827184e+00,  4.81955230e-01, -1.86973631e-01,\n",
       "       -1.08209684e-01,  4.31366444e-01, -1.74639434e-01, -4.76502329e-02,\n",
       "       -4.73168641e-01, -1.93934903e-01,  2.77214259e-01,  9.13135931e-02,\n",
       "        2.71847546e-01,  7.63205051e-01,  8.70494917e-03, -1.37861520e-02,\n",
       "       -3.82348984e-01, -3.76219042e-02,  3.32472026e-02, -2.40328893e-01,\n",
       "       -1.94146574e-01, -3.20088476e-01,  6.03833854e-01, -7.07014322e-01,\n",
       "       -2.53870249e-01, -4.33033317e-01, -4.08523142e-01, -7.64104277e-02,\n",
       "        1.21535137e-01,  2.52370745e-01, -7.75340676e-01, -2.71110892e-01,\n",
       "       -4.08682704e-01, -1.73851073e-01,  3.78770173e-01, -7.99473748e-02,\n",
       "       -2.67146558e-01, -4.35640574e-01,  3.21062744e-01, -3.61018836e-01,\n",
       "       -1.57505795e-02, -3.68936539e-01,  3.99609692e-02, -1.61896288e-01,\n",
       "       -3.17870677e-01, -2.85290384e+00,  5.79040237e-02,  2.91999191e-01,\n",
       "        2.15201735e-01,  2.16067880e-01, -6.43682778e-01, -4.65479456e-02,\n",
       "        6.62363321e-02,  2.05960229e-01, -3.81995291e-01,  1.36851892e-01,\n",
       "       -1.38345242e-01,  2.49722093e-01,  5.41168377e-02, -3.32625270e-01,\n",
       "        4.77038771e-01,  4.77641597e-02, -1.17485940e-01, -2.54826657e-02,\n",
       "       -9.48760733e-02, -1.17942333e-01,  1.34122074e-01, -5.62964618e-01,\n",
       "       -8.09366181e-02, -3.08031559e-01,  2.10156307e-01, -2.45468393e-01,\n",
       "       -4.47337955e-01,  3.17126870e-01, -4.03334439e-01, -4.20464650e-02,\n",
       "       -1.03380531e-01,  1.12585269e-01, -3.61337066e-01,  6.10829741e-02,\n",
       "       -3.66983390e+00,  3.53146464e-01, -4.33772594e-01,  1.87928513e-01,\n",
       "       -1.36506632e-01, -5.22759318e-01,  5.59549928e-01, -1.35865241e-01,\n",
       "       -6.08552933e-01, -4.94649634e-02, -3.47441703e-01,  2.55836010e-01,\n",
       "       -2.29822725e-01,  3.52485716e-01,  4.09889430e-01,  4.42087889e-01,\n",
       "        7.95657754e-01,  1.34527549e-01,  2.03885719e-01,  3.84428352e-02,\n",
       "       -2.07608789e-01, -3.65925312e-01, -1.51994511e-01, -2.73420006e-01,\n",
       "        4.88735229e-01,  1.79718181e-01, -1.68750226e-01,  1.46624863e-01,\n",
       "       -1.09249398e-01, -2.47336641e-01,  1.08360127e-01, -1.61610633e-01,\n",
       "       -2.36609414e-01,  1.19114928e-01, -6.08927131e-01,  3.69445756e-02,\n",
       "        2.38977134e-01,  3.08003545e-01,  4.35616553e-01, -2.74551302e-01,\n",
       "        4.73221153e-01,  2.10997462e-01,  4.62704971e-02,  2.81721979e-01,\n",
       "        1.30987674e-01, -3.00000936e-01,  3.02124530e-01,  2.51318395e-01,\n",
       "       -3.54648232e-01,  3.34803045e-01, -3.13501418e-01, -1.08159013e-01,\n",
       "        1.09115744e+00,  1.19006336e-01, -1.39415696e-01, -2.67956585e-01,\n",
       "        5.36997736e-01, -1.50214314e-01, -1.34127781e-01, -1.63029492e-01,\n",
       "        1.06014872e+00, -4.85170603e-01,  3.47542614e-01, -1.86657310e-01,\n",
       "        1.59163848e-01, -4.38610584e-01,  1.88731968e-01, -7.36127257e-01,\n",
       "       -2.41785973e-01,  2.92127311e-01, -1.50759131e-01,  8.38622928e-01,\n",
       "       -2.59732425e-01, -1.05355620e+00, -2.68951446e-01, -2.59347022e-01,\n",
       "        1.21757008e-01,  2.52112746e-01,  8.50907788e-02,  4.20820683e-01,\n",
       "       -1.35286435e-01,  3.34156714e-02, -3.91184032e-01,  1.36853266e+00,\n",
       "       -8.77690539e-02,  8.55010077e-02,  2.48181179e-01,  3.69639248e-01,\n",
       "       -9.43940938e-01, -2.57815570e-02,  1.23081375e-02,  1.24170713e-01,\n",
       "        7.21288979e-01,  1.00642848e+00, -4.66581583e-01,  2.28536770e-01,\n",
       "        6.94817364e-01, -9.81495798e-01,  2.37796620e-01, -4.55431342e-01,\n",
       "        1.17035225e-01, -1.54686525e-01, -2.38076270e-01,  3.02765489e-01,\n",
       "       -1.10998116e-02, -2.19587833e-01, -1.26440614e-01,  9.42221135e-02,\n",
       "        2.30821073e-01,  1.88381106e-01,  1.78527772e-01, -1.03767671e-01,\n",
       "       -7.79834911e-02, -1.40316188e-02,  8.41752887e-01, -2.65399724e-01,\n",
       "       -3.89093935e-01,  7.73794115e-01,  1.72384828e-01,  9.31527376e-01,\n",
       "        2.78514251e-02,  1.24211773e-01,  7.98871815e-02,  4.94834185e-02,\n",
       "       -4.60898519e-01,  1.24448955e-01,  3.41775984e-01, -1.82489574e-01,\n",
       "       -2.83287883e-01, -6.42177686e-02,  9.32128876e-02, -2.71121264e-01,\n",
       "       -4.61840242e-01, -7.97766984e-01,  6.92930743e-02,  1.72664791e-01,\n",
       "        1.05704084e-01,  4.98858690e-01,  2.48291314e-01, -3.78500044e-01,\n",
       "        4.71152872e-01, -3.74240637e-01, -3.61219078e-01,  4.83379275e-01,\n",
       "        1.45462781e-01,  7.09653497e-01,  1.22334167e-01, -1.21839091e-01,\n",
       "       -2.74259478e-01,  5.74239969e-01,  3.09141390e-02, -6.91411793e-01,\n",
       "       -7.57220238e-02, -2.76998669e-01, -3.03117633e-02,  6.94556534e-03,\n",
       "       -3.95122290e-01, -1.38492525e-01,  7.33893365e-02, -9.57738385e-02,\n",
       "        2.05003276e-01,  1.87690705e-02, -1.45041597e+00,  4.98568267e-02,\n",
       "        5.35133958e-01,  2.78765321e-01,  4.84146625e-01, -3.84105206e-01,\n",
       "       -8.36049497e-01,  4.26973403e-01,  4.83965397e-01,  6.28930449e-01,\n",
       "       -5.68121791e-01, -2.00363994e-01, -2.08102427e-02, -2.99968779e-01,\n",
       "        4.99760062e-01,  2.36471474e-01,  2.96459049e-01, -3.06651652e-01,\n",
       "       -3.33078921e-01,  6.92739859e-02,  1.62033379e-01,  6.34674847e-01,\n",
       "       -1.80518925e-01, -7.00355396e-02, -2.53595948e-01, -4.33670968e-01,\n",
       "       -2.05495521e-01,  8.89761329e-01, -1.74159497e-01, -6.79244325e-02,\n",
       "        3.99045467e-01, -6.64371312e-01, -4.32663292e-01, -3.97413313e-01,\n",
       "        3.32250863e-01,  3.02118123e-01, -1.57635249e-02, -2.13791117e-01,\n",
       "        8.36267054e-01,  6.06854618e-01,  4.47556376e-04,  4.64905769e-01,\n",
       "        3.81130427e-01, -4.01815251e-02,  6.44872904e-01,  3.43200982e-01,\n",
       "       -3.25169265e-01,  5.49194589e-02,  3.86402309e-01, -1.95651442e-01,\n",
       "        1.39859363e-01,  6.33899942e-02, -6.34959340e-01, -6.44302547e-01,\n",
       "        1.39909908e-01,  2.94058412e-01, -5.03255129e-01, -3.19327980e-01,\n",
       "       -3.34720790e-01,  2.52029002e-01,  2.92768657e-01, -4.91253018e-01,\n",
       "       -4.63059068e-01,  1.32370636e-01, -1.14935569e-01, -9.18086886e-01,\n",
       "        1.21483535e-01, -4.77097273e-01, -1.61515713e-01,  5.16469717e-01,\n",
       "        4.36805576e-01,  1.90237716e-01, -6.43644571e-01,  2.34997019e-01,\n",
       "       -2.49530733e-01,  3.51648808e-01, -4.37235013e-02,  4.58676904e-01,\n",
       "       -1.06834486e-01, -7.56866559e-02,  2.84504235e-01, -9.48025942e-01,\n",
       "       -8.61253142e-01,  5.31105816e-01, -1.65043190e-01,  3.78062725e-01,\n",
       "       -1.01992086e-01, -1.90205485e-01,  2.75043279e-01,  4.27450031e-01,\n",
       "       -6.45486534e-01, -8.88192773e-01, -3.22189808e-01,  2.11375415e-01,\n",
       "        2.72869468e-01,  2.37014800e-01,  2.80819297e-01,  2.23317891e-01,\n",
       "       -1.79626465e-01, -1.10624451e-02, -3.54527771e-01,  6.91707209e-02,\n",
       "        5.09933949e-01,  2.45581686e-01,  1.15192801e-01,  2.99208879e-01,\n",
       "        6.35992408e-01, -1.82253607e-02, -6.29991174e-01, -2.58487225e-01,\n",
       "       -3.39373022e-01, -2.07130402e-01,  1.79311872e-01, -4.03250933e-01,\n",
       "        2.54790664e-01, -2.99072295e-01, -1.57432958e-01, -3.19428921e-01,\n",
       "        1.68026865e+00,  1.36524349e-01,  3.76030743e-01,  2.83267468e-01,\n",
       "        4.79530036e-01, -1.04783662e-03, -3.95313919e-01,  1.91097349e-01,\n",
       "       -2.77553231e-01,  4.04049486e-01, -2.27617659e-02, -3.86417508e-01,\n",
       "       -3.73323321e-01,  2.95614958e-01,  1.44102708e-01,  4.26871806e-01,\n",
       "       -3.90019789e-02, -3.77115786e-01, -3.92714143e-01,  1.83302701e-01,\n",
       "       -5.09569824e-01,  4.35608715e-01,  8.63287091e-01,  3.84203136e-01,\n",
       "        7.26921260e-02,  7.22918987e-01,  1.25446916e-01, -1.03293777e-01,\n",
       "        1.09539039e-01,  4.07695711e-01,  1.35789558e-01,  3.23547661e-01,\n",
       "        3.26788664e-01,  3.81642669e-01,  9.33401287e-04, -8.76354426e-02,\n",
       "       -1.61429107e-01, -2.28462264e-01, -5.26314974e-01,  1.71550483e-01,\n",
       "       -4.21088841e-03, -2.62733996e-01,  4.83417213e-01, -1.32687211e-01,\n",
       "       -3.83297682e-01,  3.85712713e-01, -4.12541837e-01, -2.61650264e-01,\n",
       "        5.15158057e-01,  1.10899098e-01, -9.43829417e-02,  1.47577420e-01,\n",
       "        3.56720462e-02, -1.87162846e-01,  6.63907975e-02, -4.64729130e-01,\n",
       "       -4.33997810e-01, -9.92037237e-01,  1.28793657e-01,  2.95802891e-01,\n",
       "        7.23228976e-02,  5.35615623e-01,  4.42766696e-01, -8.54402065e-01,\n",
       "       -5.88387847e-02, -3.40382904e-02, -6.54552162e-01,  4.70299363e-01,\n",
       "       -2.06208900e-01, -2.96408802e-01, -4.34851795e-01,  1.82366952e-01,\n",
       "        3.04746300e-01,  8.18861872e-02, -6.06994405e-02,  6.05535880e-02,\n",
       "        2.78919518e-01, -2.06332564e-01, -1.89256757e-01, -1.98842239e+00,\n",
       "        4.51272309e-01,  1.57604784e-01,  1.80908944e-02, -7.41904154e-02,\n",
       "        1.57735944e-01,  5.96404895e-02, -9.64671150e-02,  2.14705542e-01,\n",
       "        2.27096617e-01, -8.33580196e-02,  8.02676618e-01, -1.08742528e-02,\n",
       "       -8.54856521e-03,  8.50389302e-02,  2.39470184e-01,  3.51082593e-01,\n",
       "       -1.39990255e-01, -6.64196134e-01,  5.16481884e-02, -1.94816470e-01,\n",
       "       -1.31463408e-01, -1.78025275e-01, -1.07733451e-01, -8.53521645e-01,\n",
       "        2.67407447e-01,  5.16716838e-01, -3.71898890e-01,  3.43755245e-01,\n",
       "        8.83072376e-01, -2.38683701e-01,  2.12644607e-01, -5.41580543e-02,\n",
       "        5.53830087e-01,  3.67525846e-01, -5.59459150e-01, -1.13618128e-01,\n",
       "       -3.34512293e-01, -1.27968922e-01,  3.84931624e-01, -2.22384200e-01,\n",
       "        6.60653472e-01, -1.62094712e-01,  5.07145405e-01,  3.23685557e-01,\n",
       "       -1.85198188e-01, -1.07626148e-01, -4.60562259e-01,  1.28959501e+00,\n",
       "       -6.19538069e-01,  5.00529520e-02, -4.06483889e-01,  1.06904715e-01,\n",
       "        2.29650319e-01,  2.90434778e-01,  1.66728586e-01,  3.75835478e-01,\n",
       "       -2.63543844e-01,  2.26373702e-01, -3.29053491e-01, -1.09993525e-01,\n",
       "       -3.65494698e-01, -5.96130610e-01,  3.78760360e-02,  1.60896659e-01,\n",
       "        2.14549139e-01, -5.72030485e-01, -1.70054913e-01,  4.42225307e-01,\n",
       "        1.28027931e-01, -3.46089691e-01, -1.74979091e-01,  2.52867579e-01,\n",
       "        2.66635418e-01,  3.21208909e-02, -3.20452183e-01,  5.38138509e-01,\n",
       "        3.27653050e-01,  7.92976439e-01,  1.51532114e-01, -2.28250757e-01,\n",
       "       -3.83748651e-01, -7.70213753e-02,  7.32146680e-01,  7.45758355e-01,\n",
       "       -5.85973883e+00, -5.16464949e-01, -4.05465692e-01, -1.08391680e-01,\n",
       "       -3.79747897e-03, -7.77840912e-02,  3.45437020e-01, -1.78398669e-01,\n",
       "        3.52344453e-01, -2.18098089e-01,  2.73301266e-03, -5.30020237e-01,\n",
       "       -1.91031381e-01, -2.33897686e-01,  7.17708230e-01,  4.26560998e-01],\n",
       "      dtype=float32)"
      ]
     },
     "execution_count": 13,
     "metadata": {},
     "output_type": "execute_result"
    }
   ],
   "source": [
    "document_embeddings[0]"
   ]
  },
  {
   "cell_type": "code",
   "execution_count": 14,
   "id": "4c86dd6f",
   "metadata": {},
   "outputs": [],
   "source": [
    "import faiss\n",
    "\n",
    "# Convert list of embeddings to a numpy array\n",
    "document_embeddings = np.array(document_embeddings).astype('float32')\n",
    "\n",
    "# Create a FAISS index\n",
    "dimension_of_embeddings = document_embeddings.shape[1]  # Dimension of embeddings (e.g., 768 for BERT)\n",
    "index = faiss.IndexFlatL2(dimension_of_embeddings)  # Use L2 distance for similarity search\n",
    "\n",
    "# Add embeddings to the FAISS index\n",
    "index.add(document_embeddings)\n",
    "\n",
    "# Optionally, save the FAISS index to disk\n",
    "faiss.write_index(index, 'document_embeddings.index')\n"
   ]
  },
  {
   "cell_type": "code",
   "execution_count": 15,
   "id": "e2fc4da5",
   "metadata": {},
   "outputs": [
    {
     "name": "stdout",
     "output_type": "stream",
     "text": [
      "AC_GUIDE 005  \n",
      " \n",
      "1.\n",
      "Approved by the Rector order N196, 05/07/2024  AC_GUIDE 005 General Academic Regulations | სასწავლო პროცესის ზოგადი რეგულაციები \n",
      "AC_GUIDE 005 \n",
      "1 \n",
      " \n",
      " \n",
      "    GENERAL ACADEMIC REGULATIONS\n",
      "of the administration. If necessary, a specialist with relevant qualification/inclusive education may be invited; 8. The individual curriculum of the student is reviewed and approved by the Rector of the University upon the submission by the faculty/school.\n"
     ]
    }
   ],
   "source": [
    "# Assuming `query_text` is the user input or query you want to search for\n",
    "query_text = \"What is GPA?\"\n",
    "\n",
    "# Get the embedding for the query\n",
    "query_embedding = get_embedding(query_text)\n",
    "\n",
    "# Perform the search in FAISS to find the most similar document\n",
    "k = 3  # Number of nearest neighbors to retrieve\n",
    "distances, indices = index.search(np.array([query_embedding]), k)\n",
    "\n",
    "# Output the retrieved document chunks based on the closest indices\n",
    "for i in indices[0]:\n",
    "    print(doc_split[i].page_content)  # document_chunks is the list of your original documents\n"
   ]
  },
  {
   "cell_type": "code",
   "execution_count": 16,
   "id": "32beebf2",
   "metadata": {},
   "outputs": [
    {
     "name": "stdout",
     "output_type": "stream",
     "text": [
      "[[0.5997536 0.862936 ]]\n"
     ]
    }
   ],
   "source": [
    "# TEST TEST TEST\n",
    "\n",
    "query = \"What is Retrieval-Augmented Generation?\"\n",
    "query_vec = get_embedding(query)\n",
    "\n",
    "chunk1 = \"Retrieval-Augmented Generation (RAG) is a method where an LLM pulls info from external sources before generating an answer.\"\n",
    "chunk2 = \"This paper proposes a dataset for COVID-19 question answering tasks based on research papers.\"\n",
    "\n",
    "chunk_vecs = [get_embedding(chunk1), get_embedding(chunk2)]\n",
    "\n",
    "sims = cosine_similarity([query_vec], chunk_vecs)\n",
    "print(sims)\n"
   ]
  },
  {
   "cell_type": "code",
   "execution_count": 17,
   "id": "d2123f5a",
   "metadata": {},
   "outputs": [],
   "source": [
    "# loader\n",
    "from langchain.document_loaders import PyPDFLoader\n",
    "# chunker\n",
    "from langchain.text_splitter import RecursiveCharacterTextSplitter\n",
    "# encoders\n",
    "from sentence_transformers import SentenceTransformer\n",
    "from transformers import AutoModel, AutoTokenizer\n",
    "#\n",
    "import torch\n",
    "from sklearn.metrics.pairwise import cosine_similarity\n",
    "import numpy as np\n",
    "\n",
    "# for generation we need llm for this we import\n",
    "from langchain_openai import OpenAI\n",
    "\n",
    "\n"
   ]
  },
  {
   "cell_type": "code",
   "execution_count": 18,
   "id": "b9b75844",
   "metadata": {},
   "outputs": [],
   "source": [
    "model = SentenceTransformer('sentence-transformers/all-MiniLM-L6-v2')"
   ]
  },
  {
   "cell_type": "code",
   "execution_count": 19,
   "id": "8682f1da",
   "metadata": {},
   "outputs": [
    {
     "name": "stdout",
     "output_type": "stream",
     "text": [
      "[[0.47258613 0.01885617]]\n"
     ]
    }
   ],
   "source": [
    "query_text = \"What is RAG system?\"\n",
    "\n",
    "chunk1 = \"Retrieval-Augmented Generation (RAG) is a method where an LLM pulls info from external sources before generating an answer.\"\n",
    "chunk2 = \"This paper proposes a dataset for COVID-19 question answering tasks based on research papers.\"\n",
    "\n",
    "query_vec = model.encode(query_text)\n",
    "chunk1_vec = model.encode(chunk1)\n",
    "chunk2_vec = model.encode(chunk2)\n",
    "sims = cosine_similarity([query_vec], [chunk1_vec, chunk2_vec])\n",
    "print(sims)"
   ]
  },
  {
   "cell_type": "code",
   "execution_count": 20,
   "id": "3dfe7738",
   "metadata": {},
   "outputs": [
    {
     "name": "stdout",
     "output_type": "stream",
     "text": [
      "[[0.37468135 0.35112286]]\n"
     ]
    }
   ],
   "source": [
    "query_text = \"GPA IS academic scoring system\"\n",
    "\n",
    "chunk1 = \"tells us how good student performs\"\n",
    "chunk2 = \"academic things.\"\n",
    "\n",
    "query_vec = model.encode(query_text)\n",
    "chunk1_vec = model.encode(chunk1)\n",
    "chunk2_vec = model.encode(chunk2)\n",
    "sims = cosine_similarity([query_vec], [chunk1_vec, chunk2_vec])\n",
    "print(sims)"
   ]
  },
  {
   "cell_type": "code",
   "execution_count": 21,
   "id": "550f830a",
   "metadata": {},
   "outputs": [],
   "source": [
    "# Generate embeddings for each chunk\n",
    "document_embeddings_new = [model.encode(chunk.page_content) for chunk in doc_split]"
   ]
  },
  {
   "cell_type": "code",
   "execution_count": 22,
   "id": "08da7b4a",
   "metadata": {},
   "outputs": [],
   "source": [
    "import faiss\n",
    "\n",
    "# Convert list of embeddings to a numpy array\n",
    "document_embeddings_new = np.array(document_embeddings_new).astype('float32')\n",
    "\n",
    "# Create a FAISS index\n",
    "dimension_of_embeddings_new = document_embeddings_new.shape[1]  \n",
    "index = faiss.IndexFlatL2(dimension_of_embeddings_new)  # Use L2 distance for similarity search\n",
    "\n",
    "# Add embeddings to the FAISS index\n",
    "index.add(document_embeddings_new)\n",
    "\n",
    "# Optionally, save the FAISS index to disk\n",
    "faiss.write_index(index, 'document_embeddings.index')\n"
   ]
  },
  {
   "cell_type": "code",
   "execution_count": 23,
   "id": "156a471e",
   "metadata": {},
   "outputs": [
    {
     "name": "stdout",
     "output_type": "stream",
     "text": [
      "Article 16. Academic Assessment: Cumulative Weighted Average Score (GPA) 1. Students' academic performance in undergraduate educational programs is assessed via a cumulative weighted average score - GPA (grade point average). 2. The maximal value of a student GPA when studying for an educational program is 4.0. 3. The weighted GP score obtained by the student in the individual subject is calculated according to the following scheme:  Assessment of subject Weighted score (GP) 94-100 4.0 91-93 3.7 88-90 3.4 85-87 3.1 81-84 2.8 78-80 2.5 74-77 2.2 71-73 1.9 68-70 1.6 64-67 1.3 61-63 1.0 56-60 0.8 51-55 0.5  4. Within the educational program, the student GPA is calculated by dividing the sum of multiples of weighted scores for each subject corresponding to the obtained credits and the number of credits of the subject by the total number of credits obtained by the student:  ∑k(GPk ∗ C k ) GPA = ∑k Ck  where, K index indicates the number of the individual subjects; GPK - weighted score\n",
      "indicates the number of the individual subjects; GPK - weighted score for individual subject assessment; CK - ECTS credit for individual subject.     5. GPA value obtained is rounded up to one hundredth accuracy.   Article 17. Awarding the qualification and diploma 1. After completing the mandatory components and accumulation of credits provided for the educational program, the student is awarded the academic degree/qualification considered by the educational program.\n",
      "the amount paid for missing credits during the mentioned semesters, in accordance with paragraph 3 of Article 15 of this Rule, in case of continuing the study for additional semester; however this rule is valid for no more than 30 credits in total and no more than two semesters after the completion of the main study time considered for the educational program.  Article 6. Internal Mobility 1. A student of the University is entitled to transfer from one educational program of the University to another educational program (hereinafter referred to as - \"Internal mobility\"); 2. Internal mobility is carried out within the timeframe determined by the order of the University Rector; 3. Internal mobility can be implemented in the fall and spring semesters before the start of the study process; 4. The Rector is authorized to declare extraordinary internal mobility in case of refusal or revocation of the accreditation of the educational program or in case of reorganization/cancellation of the\n",
      "contact/academic hour at the University is 50 minutes; 9. A single academic semester shall consist of fourteen (14) instructional weeks, one (1) week designated for midterm examinations, and the periods allocated for primary and supplementary examinations. The specific timeframe for conducting midterm examinations shall be determined by the syllabus of the respective academic course.  Article 5. Enrollment through mobility 1. Enrollment in the University through mobility is carried out in accordance with the rules established by the legislation of Georgia; 2. In case of enrollment of a student through mobility, in accordance with current rules of recognition of credits of the University, the compatibility of the student's learning outcomes with the relevant educational program of the University is determined and the permissible stage for continuing study is decided based on recognized credits; 3. In case of enrollment of a student in the University through mobility, his/her tuition\n",
      "a student to another educational program through internal mobility is drawn up by the order of the University Rector; 15. In case of enrollment of a student in the University through internal mobility, his/her tuition fee is determined according to the university tariffs set for the respective educational program;    16. If, after enrollment of a student through internal mobility, due to the structural features of the relevant educational program of the University, the semester academic workload offered to the student does not reach 30 ECTS credits in the relevant or next semester(s) of enrollment, the student is entitled to use the amount paid for missing credits during the mentioned semesters, in accordance with paragraph 3 of Article 15 of this Rule, in case of continuing the study for additional semester; however this rule is valid for no more than 30 credits in total and no more than two semesters after the completion of the main study time considered for the educational program.\n",
      "Approved by the Rector order N196, 05/07/2024  AC_GUIDE 005 General Academic Regulations | სასწავლო პროცესის ზოგადი რეგულაციები \n",
      "AC_GUIDE 005 \n",
      "1 \n",
      " \n",
      " \n",
      "    GENERAL ACADEMIC REGULATIONS\n",
      "of a student in the University through mobility, his/her tuition fee is determined according to the University tariffs set for the respective educational program; 4. If, after enrollment of a student through mobility, due to the structural features of the relevant educational program of the University, the semester academic workload offered to the student does not reach 30 ECTS credits in the relevant or next semester(s) of enrollment, the student is entitled to use\n",
      "Article 12. Semester tuition fee 1. The amount of semester tuition fee at the University is determined in accordance with the University tariffs set for the relevant educational program for the year of enrollment; 2. The student must pay the semester tuition fee within the deadlines set for the administrative registration; 3. A student with partial funding must cover the difference between the funding obtained and the semester tuition fee within the timeframe set for the administrative registration; 4. In case of admission of a student through mobility/internal mobility/reinstatement at the University, the student’s tuition fee is determined according to the tuition fee for the educational program he/she will continue study for.    Article 13. Rules for conducting interim assessment and final exam 1. Credit can be obtained by a student only after achieving the learning outcomes considered under the syllabus of the relevant study course; 2. Assessment of the level of achievement of\n",
      "Table of Contents  Article 1. Scope of regulation .............................................................................................................................. 3 Article 2. Obtaining University student status .................................................................................................... 3 Article 3. Administrative and academic registration .......................................................................................... 3 Article 4. Student’s academic workload .............................................................................................................. 4 Article 5. Enrollment through mobility .............................................................................................................. 4 Article 6. Internal Mobility ................................................................................................................................. 5 Article 7. Suspension of student status\n",
      "Approved by the Rector order N196, 05/07/2024  AC_GUIDE 005 General Academic Regulations | სასწავლო პროცესის ზოგადი რეგულაციები \n",
      "AC_GUIDE 005 \n",
      "3\n"
     ]
    }
   ],
   "source": [
    "# Assuming `query_text` is the user input or query you want to search for\n",
    "query_text = \"3.1 GPA\"\n",
    "\n",
    "# Get the embedding for the query\n",
    "query_embedding = model.encode(query_text)\n",
    "\n",
    "# Perform the search in FAISS to find the most similar document\n",
    "k = 10  # Number of nearest neighbors to retrieve\n",
    "distances, indices = index.search(np.array([query_embedding]), k)\n",
    "\n",
    "# Output the retrieved document chunks based on the closest indices\n",
    "for i in indices[0]:\n",
    "    print(doc_split[i].page_content)  # document_chunks is the list of your original documents\n"
   ]
  },
  {
   "cell_type": "code",
   "execution_count": 24,
   "id": "75222a98",
   "metadata": {},
   "outputs": [
    {
     "data": {
      "text/plain": [
       "'Article 16. Academic Assessment: Cumulative Weighted Average Score (GPA) 1. Students\\' academic performance in undergraduate educational programs is assessed via a cumulative weighted average score - GPA (grade point average). 2. The maximal value of a student GPA when studying for an educational program is 4.0. 3. The weighted GP score obtained by the student in the individual subject is calculated according to the following scheme:  Assessment of subject Weighted score (GP) 94-100 4.0 91-93 3.7 88-90 3.4 85-87 3.1 81-84 2.8 78-80 2.5 74-77 2.2 71-73 1.9 68-70 1.6 64-67 1.3 61-63 1.0 56-60 0.8 51-55 0.5  4. Within the educational program, the student GPA is calculated by dividing the sum of multiples of weighted scores for each subject corresponding to the obtained credits and the number of credits of the subject by the total number of credits obtained by the student:  ∑k(GPk ∗ C k ) GPA = ∑k Ck  where, K index indicates the number of the individual subjects; GPK - weighted score\\n\\nindicates the number of the individual subjects; GPK - weighted score for individual subject assessment; CK - ECTS credit for individual subject.     5. GPA value obtained is rounded up to one hundredth accuracy.   Article 17. Awarding the qualification and diploma 1. After completing the mandatory components and accumulation of credits provided for the educational program, the student is awarded the academic degree/qualification considered by the educational program.\\n\\nthe amount paid for missing credits during the mentioned semesters, in accordance with paragraph 3 of Article 15 of this Rule, in case of continuing the study for additional semester; however this rule is valid for no more than 30 credits in total and no more than two semesters after the completion of the main study time considered for the educational program.  Article 6. Internal Mobility 1. A student of the University is entitled to transfer from one educational program of the University to another educational program (hereinafter referred to as - \"Internal mobility\"); 2. Internal mobility is carried out within the timeframe determined by the order of the University Rector; 3. Internal mobility can be implemented in the fall and spring semesters before the start of the study process; 4. The Rector is authorized to declare extraordinary internal mobility in case of refusal or revocation of the accreditation of the educational program or in case of reorganization/cancellation of the\\n\\ncontact/academic hour at the University is 50 minutes; 9. A single academic semester shall consist of fourteen (14) instructional weeks, one (1) week designated for midterm examinations, and the periods allocated for primary and supplementary examinations. The specific timeframe for conducting midterm examinations shall be determined by the syllabus of the respective academic course.  Article 5. Enrollment through mobility 1. Enrollment in the University through mobility is carried out in accordance with the rules established by the legislation of Georgia; 2. In case of enrollment of a student through mobility, in accordance with current rules of recognition of credits of the University, the compatibility of the student\\'s learning outcomes with the relevant educational program of the University is determined and the permissible stage for continuing study is decided based on recognized credits; 3. In case of enrollment of a student in the University through mobility, his/her tuition\\n\\na student to another educational program through internal mobility is drawn up by the order of the University Rector; 15. In case of enrollment of a student in the University through internal mobility, his/her tuition fee is determined according to the university tariffs set for the respective educational program;    16. If, after enrollment of a student through internal mobility, due to the structural features of the relevant educational program of the University, the semester academic workload offered to the student does not reach 30 ECTS credits in the relevant or next semester(s) of enrollment, the student is entitled to use the amount paid for missing credits during the mentioned semesters, in accordance with paragraph 3 of Article 15 of this Rule, in case of continuing the study for additional semester; however this rule is valid for no more than 30 credits in total and no more than two semesters after the completion of the main study time considered for the educational program.\\n\\nApproved by the Rector order N196, 05/07/2024  AC_GUIDE 005 General Academic Regulations | სასწავლო პროცესის ზოგადი რეგულაციები \\nAC_GUIDE 005 \\n1 \\n \\n \\n    GENERAL ACADEMIC REGULATIONS\\n\\nof a student in the University through mobility, his/her tuition fee is determined according to the University tariffs set for the respective educational program; 4. If, after enrollment of a student through mobility, due to the structural features of the relevant educational program of the University, the semester academic workload offered to the student does not reach 30 ECTS credits in the relevant or next semester(s) of enrollment, the student is entitled to use\\n\\nArticle 12. Semester tuition fee 1. The amount of semester tuition fee at the University is determined in accordance with the University tariffs set for the relevant educational program for the year of enrollment; 2. The student must pay the semester tuition fee within the deadlines set for the administrative registration; 3. A student with partial funding must cover the difference between the funding obtained and the semester tuition fee within the timeframe set for the administrative registration; 4. In case of admission of a student through mobility/internal mobility/reinstatement at the University, the student’s tuition fee is determined according to the tuition fee for the educational program he/she will continue study for.    Article 13. Rules for conducting interim assessment and final exam 1. Credit can be obtained by a student only after achieving the learning outcomes considered under the syllabus of the relevant study course; 2. Assessment of the level of achievement of\\n\\nTable of Contents  Article 1. Scope of regulation .............................................................................................................................. 3 Article 2. Obtaining University student status .................................................................................................... 3 Article 3. Administrative and academic registration .......................................................................................... 3 Article 4. Student’s academic workload .............................................................................................................. 4 Article 5. Enrollment through mobility .............................................................................................................. 4 Article 6. Internal Mobility ................................................................................................................................. 5 Article 7. Suspension of student status\\n\\nApproved by the Rector order N196, 05/07/2024  AC_GUIDE 005 General Academic Regulations | სასწავლო პროცესის ზოგადი რეგულაციები \\nAC_GUIDE 005 \\n3'"
      ]
     },
     "execution_count": 24,
     "metadata": {},
     "output_type": "execute_result"
    }
   ],
   "source": [
    "# get chunks what we need, works right\n",
    "retrieved_chunks = [doc_split[i].page_content for i in indices[0]]\n",
    "context = \"\\n\\n\".join(retrieved_chunks)\n",
    "context"
   ]
  },
  {
   "cell_type": "code",
   "execution_count": 25,
   "id": "e1f14bed",
   "metadata": {},
   "outputs": [
    {
     "name": "stderr",
     "output_type": "stream",
     "text": [
      "C:\\Users\\TERENTI\\AppData\\Local\\Temp\\ipykernel_12300\\2070310535.py:9: LangChainDeprecationWarning: The class `LLMChain` was deprecated in LangChain 0.1.17 and will be removed in 1.0. Use :meth:`~RunnableSequence, e.g., `prompt | llm`` instead.\n",
      "  chain_inference = LLMChain(llm=llm_model, prompt=topic_prompt)\n",
      "C:\\Users\\TERENTI\\AppData\\Local\\Temp\\ipykernel_12300\\2070310535.py:36: LangChainDeprecationWarning: The method `Chain.run` was deprecated in langchain 0.1.0 and will be removed in 1.0. Use :meth:`~invoke` instead.\n",
      "  output= main_chain.run(docs)\n",
      "c:\\Users\\TERENTI\\AppData\\Local\\Programs\\Python\\Python313\\Lib\\site-packages\\langchain_google_genai\\chat_models.py:367: UserWarning: Convert_system_message_to_human will be deprecated!\n",
      "  warnings.warn(\"Convert_system_message_to_human will be deprecated!\")\n",
      "c:\\Users\\TERENTI\\AppData\\Local\\Programs\\Python\\Python313\\Lib\\site-packages\\langchain_google_genai\\chat_models.py:367: UserWarning: Convert_system_message_to_human will be deprecated!\n",
      "  warnings.warn(\"Convert_system_message_to_human will be deprecated!\")\n",
      "c:\\Users\\TERENTI\\AppData\\Local\\Programs\\Python\\Python313\\Lib\\site-packages\\langchain_google_genai\\chat_models.py:367: UserWarning: Convert_system_message_to_human will be deprecated!\n",
      "  warnings.warn(\"Convert_system_message_to_human will be deprecated!\")\n"
     ]
    },
    {
     "name": "stdout",
     "output_type": "stream",
     "text": [
      "Here's the translation, aiming for a sophisticated and professional tone:\n",
      "\n",
      "\"გასაგებია. თქვენ გსურთ, რომ მოწოდებული დოკუმენტაციის სიმცირის მიუხედავად, საკუთარი ცოდნისა და მსჯელობის საფუძველზე, უფრო სრულყოფილი და სასარგებლო პასუხი მოგაწოდოთ.  ამიტომაც, წარმოგიდგენთ გაუმჯობესებულ პასუხს, რომელიც ეფუძნება წინა ანალიზს:\n",
      "\n",
      "ეს დოკუმენტი აღწერს GPA-ს სისტემას ქუთაისის საერთაშორისო უნივერსიტეტში. მაქსიმალური GPA არის 4.0, და GPA გამოითვლება როგორც შეწონილი საშუალო ქულა, რაც ნაჩვენებია ფორმულით: `GPA = ∑k(GPk ∗ C k ) / ∑k Ck`. ეს ნიშნავს, რომ თითოეული ქულა (GPk) მრავლდება შესაბამის საკრედიტო საათებზე (Ck) ამ კურსისთვის, და ამ ნამრავლების ჯამი იყოფა საკრედიტო საათების საერთო რაოდენობაზე. შეფასების სკალა შემდეგია:\n",
      "\n",
      "*   94-100: 4.0\n",
      "*   91-93: 3.7\n",
      "*   ... (დანარჩენი სკალა მოცემულია)\n",
      "*   51-55: 0.5\n",
      "\n",
      "სამწუხაროდ, ეს დოკუმენტი არ შეიცავს ინფორმაციას მსოფლიოს წამყვან უნივერსიტეტებში GPA-ს ზოგადი საშუალო მაჩვენებლების შესახებ. ამ ინფორმაციის მოსაძიებლად, თქვენ უნდა მიმართოთ რესურსებს, რომლებიც აგროვებენ მონაცემებს უნივერსიტეტებში მიღებისა და სტუდენტების აკადემიური მოსწრების შესახებ, როგორიცაა უნივერსიტეტების რეიტინგების ვებსაიტები (მაგ., US News & World Report, QS World University Rankings, Times Higher Education), უნივერსიტეტების მიმღები კომისიების ვებსაიტები, ან საგანმანათლებლო კვლევითი პუბლიკაციები.\n",
      "\n",
      "**თუმცა, ჩემი ცოდნის საფუძველზე, შემიძლია მოგაწოდოთ ზოგადი კონტექსტი:**\n",
      "\n",
      "*   **GPA-ს სისტემები მნიშვნელოვნად განსხვავდება:** 4.0-იანი სკალა გავრცელებულია შეერთებულ შტატებში, მაგრამ ბევრი სხვა ქვეყანა იყენებს შეფასების სხვადასხვა სისტემას (მაგ., პროცენტებზე დაფუძნებული სისტემები, ასოებით შეფასება GPA-ში კონვერტაციის გარეშე, ან GPA-ს სხვადასხვა სკალები, როგორიცაა 5.0-იანი სკალა).  აშშ-შიც კი, ზოგიერთმა ინსტიტუტმა შესაძლოა გარკვეული კურსები განსხვავებულად შეაფასოს.\n",
      "\n",
      "*   **\"ტოპ\" უნივერსიტეტები უაღრესად კონკურენტუნარიანია:** ზოგადად, უაღრესად სელექციურ უნივერსიტეტებში (მაგ., აივი ლიგის სკოლები აშშ-ში, ოქსბრიჯი დიდ ბრიტანეთში, აზიის წამყვანი უნივერსიტეტები) წარმატებულ აპლიკანტებს, როგორც წესი, ძალიან მაღალი GPA აქვთ.  მიუხედავად იმისა, რომ არ არსებობს ერთი \"ზოგადი GPA\", GPA მაქსიმუმთან ახლოს (მაგ., 3.8 ან უფრო მაღალი 4.0-იან სკალაზე) ხშირად მოსალოდნელია საბაკალავრო პროგრამებზე მიღებისთვის. სამაგისტრო პროგრამებზე მიღებას ხშირად კიდევ უფრო მაღალი მოლოდინები აქვს.\n",
      "\n",
      "*   **GPA არ არის ერთადერთი ფაქტორი:** ტოპ უნივერსიტეტები აპლიკანტებს ჰოლისტურად აფასებენ, მათ შორის სტანდარტიზებული ტესტების შედეგებს (SAT/ACT ან GRE/GMAT), ესეებს, სარეკომენდაციო წერილებს, არასაკლასო აქტივობებს და ლიდერობის დემონსტრირებას.  ოდნავ დაბალი GPA ზოგჯერ შეიძლება კომპენსირებული იყოს სხვა სფეროებში განსაკუთრებული მიღწევებით.\n",
      "\n",
      "*   **კონტექსტს აქვს მნიშვნელობა:** ასევე გათვალისწინებულია სასწავლო კურსის სირთულე და წინა ინსტიტუტის რეპუტაცია. 3.7 GPA-ს უაღრესად მომთხოვნი პროგრამიდან შესაძლოა უფრო დადებითად შეხედონ, ვიდრე 4.0 GPA-ს ნაკლებად მკაცრი პროგრამიდან.\n",
      "\n",
      "*   **მონაცემები ხელმისაწვდომია, მაგრამ საჭიროებს კვლევას:** ზოგიერთი უნივერსიტეტი აქვეყნებს მიღებული სტუდენტების GPA-ს საშუალო დიაპაზონს.  ეს ინფორმაცია ხშირად შეგიძლიათ იპოვოთ მათ მიმღებ ვებსაიტებზე ან კოლეჯების საძიებო ინსტრუმენტების საშუალებით.  თუმცა, ეს მონაცემები ხშირად თვითმოხსენებულია და შესაძლოა არ იყოს სრულყოფილად ზუსტი.\n",
      "\n",
      "**დასკვნის სახით:** მიუხედავად იმისა, რომ მე არ შემიძლია მოგაწოდოთ ერთი \"ზოგადი GPA\" მსოფლიოს წამყვანი უნივერსიტეტებისთვის, ზოგადად მიზანშეწონილია შესაბამის სკალაზე მაქსიმუმთან ახლოს GPA-ს მიღწევა.  გახსოვდეთ, რომ გამოიკვლიოთ იმ უნივერსიტეტების კონკრეტული მოთხოვნები და მოლოდინები, რომლებითაც დაინტერესებული ხართ, და ყურადღება გაამახვილეთ ძლიერი საერთო განაცხადის შექმნაზე.\"\n",
      "\n",
      "**Key improvements reflected in the translation:**\n",
      "\n",
      "*   **Formal Tone:** The language used is more formal and professional, suitable for an academic or professional context.\n",
      "*   **Precise Vocabulary:**  Careful attention was paid to using precise and nuanced vocabulary to convey the meaning accurately.\n",
      "*   **Complex Sentence Structures:**  The translation maintains the complexity of the original sentences, reflecting a sophisticated writing style.\n",
      "*   **Cultural Appropriateness:** The translation avoids any colloquialisms or expressions that might not be appropriate in a formal Georgian context.\n",
      "*   **Clarity:** Despite the complexity, the translation remains clear and easy to understand for a Georgian speaker familiar with academic terminology.\n",
      "\n",
      "This translation aims to capture not just the literal meaning of the original text, but also its tone and level of sophistication.\n"
     ]
    }
   ],
   "source": [
    "#create additional chain to get the information outside of the RAG\n",
    "\n",
    "from langchain.chains import LLMChain, SimpleSequentialChain\n",
    "\n",
    "topic_prompt = PromptTemplate(\n",
    "    input_variable=['question'],\n",
    "    template ='go through a prompt step by step, understand a what users {question} for and deduce where the desired answer from embedding coulld be, რამდენია ზოგადი GPA მსოფლიოში უმაღლეს სასწავლებლებში'\n",
    ")\n",
    "chain_inference = LLMChain(llm=llm_model, prompt=topic_prompt)\n",
    "# print(result)\n",
    "\n",
    "\n",
    "# topic_prompt2=PromptTemplate(\n",
    "#     input_variables=['correlation'],\n",
    "#     template='based on the columns tell me which one of the columns has the heighest {correlation}, also tell me what is their correlation coefficent,Do not count and year correlation, it doesnt make any sense to do so'\n",
    "# )\n",
    "# chain_correlation = LLMChain(llm=llm_model, prompt=topic_prompt2)\n",
    "\n",
    "\n",
    "topic_prompt3 = PromptTemplate(\n",
    "    input_variables=['part'],\n",
    "    template='add the your information to the answer {part}, that would gives us a better more through result'\n",
    ")\n",
    "chain_clean=LLMChain(llm=llm_model, prompt=topic_prompt3)\n",
    "\n",
    "\n",
    "topic_prompt4 = PromptTemplate(\n",
    "    input_variables=['text'],  # This must be 'text' for SimpleSequentialChain\n",
    "    template='Write the following in Georgian, making it sophisticated: {text}'\n",
    ")\n",
    "\n",
    "\n",
    "chain_predict = LLMChain(llm=llm_model, prompt=topic_prompt4)\n",
    "#Prediction chain\n",
    "main_chain=SimpleSequentialChain(chains=[chain_inference,chain_clean, chain_predict])\n",
    "output= main_chain.run(docs)\n",
    "print(output)\n",
    "\n"
   ]
  },
  {
   "cell_type": "code",
   "execution_count": 26,
   "id": "606f8ac6",
   "metadata": {},
   "outputs": [
    {
     "name": "stdout",
     "output_type": "stream",
     "text": [
      "\n",
      "\n",
      "\u001b[1m> Entering new AgentExecutor chain...\u001b[0m\n"
     ]
    },
    {
     "name": "stderr",
     "output_type": "stream",
     "text": [
      "C:\\Users\\TERENTI\\AppData\\Local\\Temp\\ipykernel_12300\\299650438.py:17: LangChainDeprecationWarning: LangChain agents will continue to be supported, but it is recommended for new use cases to be built with LangGraph. LangGraph offers a more flexible and full-featured framework for building agents, including support for tool-calling, persistence of state, and human-in-the-loop workflows. For details, refer to the `LangGraph documentation <https://langchain-ai.github.io/langgraph/>`_ as well as guides for `Migrating from AgentExecutor <https://python.langchain.com/docs/how_to/migrate_agent/>`_ and LangGraph's `Pre-built ReAct agent <https://langchain-ai.github.io/langgraph/how-tos/create-react-agent/>`_.\n",
      "  agent = initialize_agent(\n",
      "c:\\Users\\TERENTI\\AppData\\Local\\Programs\\Python\\Python313\\Lib\\site-packages\\langchain_google_genai\\chat_models.py:367: UserWarning: Convert_system_message_to_human will be deprecated!\n",
      "  warnings.warn(\"Convert_system_message_to_human will be deprecated!\")\n"
     ]
    },
    {
     "name": "stdout",
     "output_type": "stream",
     "text": [
      "\u001b[32;1m\u001b[1;3mI need to find information about alternative evaluation systems to GPA and different scoring systems used in education.\n",
      "Action: DuckDuckGoSearch\n",
      "Action Input: \"alternative evaluation systems to GPA\"\u001b[0m\n",
      "Observation: \u001b[36;1m\u001b[1;3mPass/Fail Grading. Pass/fail grading boils outcomes down to two possibilities: pass or fail. That simplicity can bring relief to students, who no longer stress over letter-based rankings. Some might feel freer to experiment, unafraid of jeopardizing a GPA by exploring challenging subjects. On the flip side, pass/fail grading gives little nuance. Chart: Popularity trends of alternative grading systems from 2010 to 2025 Figure: Popularity trends of alternative grading systems in K-12 and higher education from 2010 to 2025. The chart below illustrates the rising adoption of alternative grading systems in both K-12 and higher education over the past 15 years. For schools interested in implementing any alternative grading systems, Beck recommends having a communication plan to present the changes and rationale to parents. She noted that a lot of parents who are used to traditional grading might be uncomfortable or confused if schools try to move away from these systems. She suggests that schools ... Alternative grading is an umbrella term that covers any grading method that differs from standard practices. Most alternative grading practices aim to evaluate students' work based on effort and learning instead of performance. Recently, it has been the focus of articles in The Chronicle of Higher Education (Miller 2022; Supiano 2022; Lang ... The Four Pillars of Alternative Grading (clearly defined standards, helpful feedback, marks indicate progress, reattempts without penalty) now permeate my pedagogy. Through a tight-knit set of learning outcomes, regular feedback, low-stakes assessment, and a token system, my students navigate the world of organic chemistry with more purpose ...\u001b[0m\n",
      "Thought:"
     ]
    },
    {
     "name": "stderr",
     "output_type": "stream",
     "text": [
      "c:\\Users\\TERENTI\\AppData\\Local\\Programs\\Python\\Python313\\Lib\\site-packages\\langchain_google_genai\\chat_models.py:367: UserWarning: Convert_system_message_to_human will be deprecated!\n",
      "  warnings.warn(\"Convert_system_message_to_human will be deprecated!\")\n"
     ]
    },
    {
     "name": "stdout",
     "output_type": "stream",
     "text": [
      "\u001b[32;1m\u001b[1;3mI need to find more information about different scoring systems.\n",
      "Action: DuckDuckGoSearch\n",
      "Action Input: \"different scoring systems in education\"\u001b[0m\n",
      "Observation: \u001b[36;1m\u001b[1;3mThis is a list of grading systems used by countries of the world, primarily within the fields of secondary education and university education, organized by continent with links to specifics in numerous entries. Discover alternative grading systems like mastery-based learning, narrative feedback, and pass/fail evaluations. Learn how they improve student outcomes and their challenges in scaling nationwide. The Classroom Assessment Scoring System (CLASS®) is an observation instrument that assesses the quality of teacher-child interactions in center-based preschool classrooms. CLASS® includes three domains or categories of teacher-child interactions that support children's learning and development: Emotional Support, Classroom Organization, and Instructional Support. Within each domain are ... What is standards-based grading for 2025? Standards-based grading (SBG) is an educational system that focuses on the effectiveness of instruction and the mastery of skills or standards for a specific subject. It is an innovative approach to education that is often paired with a positive environment for learners who are actively engaged in learning. As international education continues to grow, understanding different grading systems becomes increasingly valuable. Whether you're a student dreaming of studying abroad or an educator working with international students, taking time to learn about these differences can help avoid confusion and ensure fair evaluation.\u001b[0m\n",
      "Thought:"
     ]
    },
    {
     "name": "stderr",
     "output_type": "stream",
     "text": [
      "c:\\Users\\TERENTI\\AppData\\Local\\Programs\\Python\\Python313\\Lib\\site-packages\\langchain_google_genai\\chat_models.py:367: UserWarning: Convert_system_message_to_human will be deprecated!\n",
      "  warnings.warn(\"Convert_system_message_to_human will be deprecated!\")\n"
     ]
    },
    {
     "name": "stdout",
     "output_type": "stream",
     "text": [
      "\u001b[32;1m\u001b[1;3mI have gathered information about alternative evaluation systems to GPA and different scoring systems used in education. Here's a summary:\n",
      "\n",
      "*   **Alternative Evaluation Systems to GPA:**\n",
      "    *   **Pass/Fail Grading:** Simplifies outcomes to \"pass\" or \"fail,\" potentially reducing student stress and encouraging exploration of challenging subjects. However, it lacks nuance.\n",
      "    *   **Alternative Grading:** An umbrella term for grading methods differing from standard practices, often focusing on effort and learning rather than performance.\n",
      "    *   **Mastery-Based Learning:** Focuses on the mastery of skills or standards for a specific subject.\n",
      "    *   **Narrative Feedback:** Provides written feedback on student work instead of a grade.\n",
      "\n",
      "*   **Different Scoring Systems:**\n",
      "    *   **Standards-Based Grading (SBG):** Focuses on the effectiveness of instruction and the mastery of skills or standards for a specific subject.\n",
      "    *   **Classroom Assessment Scoring System (CLASS®):** An observation instrument that assesses the quality of teacher-child interactions.\n",
      "\n",
      "Final Answer: Besides GPA, alternative evaluation systems include pass/fail grading, alternative grading (focusing on effort and learning), mastery-based learning, and narrative feedback. Different scoring systems include standards-based grading and the Classroom Assessment Scoring System (CLASS).\u001b[0m\n",
      "\n",
      "\u001b[1m> Finished chain.\u001b[0m\n",
      "Besides GPA, alternative evaluation systems include pass/fail grading, alternative grading (focusing on effort and learning), mastery-based learning, and narrative feedback. Different scoring systems include standards-based grading and the Classroom Assessment Scoring System (CLASS).\n"
     ]
    }
   ],
   "source": [
    "#agent to search we to know, other evalutation system outside of GPA and compare \n",
    "from langchain.agents import initialize_agent, Tool\n",
    "from langchain.tools import DuckDuckGoSearchRun\n",
    "\n",
    "\n",
    "search_tool = DuckDuckGoSearchRun()\n",
    "tools = [\n",
    "    Tool(\n",
    "        name=\"DuckDuckGoSearch\",\n",
    "        func=search_tool.run,\n",
    "        description=\"Search the web for up-to-date information\"\n",
    "    )\n",
    "]\n",
    "\n",
    "\n",
    "\n",
    "agent = initialize_agent(\n",
    "    tools,\n",
    "    llm_model,\n",
    "    agent=\"zero-shot-react-description\",\n",
    "    verbose=True\n",
    ")\n",
    "\n",
    "\n",
    "\n",
    "response = agent.run(\"now search information what evaluation system is there other than GPA, and retrieve scoring system\")\n",
    "print(response)\n",
    "\n",
    "\n"
   ]
  },
  {
   "cell_type": "code",
   "execution_count": null,
   "id": "8fc63169",
   "metadata": {},
   "outputs": [],
   "source": []
  }
 ],
 "metadata": {
  "kernelspec": {
   "display_name": "Python 3",
   "language": "python",
   "name": "python3"
  },
  "language_info": {
   "codemirror_mode": {
    "name": "ipython",
    "version": 3
   },
   "file_extension": ".py",
   "mimetype": "text/x-python",
   "name": "python",
   "nbconvert_exporter": "python",
   "pygments_lexer": "ipython3",
   "version": "3.13.2"
  }
 },
 "nbformat": 4,
 "nbformat_minor": 5
}
